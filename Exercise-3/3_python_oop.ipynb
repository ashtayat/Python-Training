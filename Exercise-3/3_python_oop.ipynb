{
 "cells": [
  {
   "cell_type": "markdown",
   "metadata": {},
   "source": [
    "<div style=\"display: flex; align-items: center;\">\n",
    "    <img src=\"../img/es_logo.png\" alt=\"title\" style=\"margin-right: 20px;\">\n",
    "    <h1>Introduction to Python</h1>\n",
    "</div>"
   ]
  },
  {
   "cell_type": "markdown",
   "metadata": {},
   "source": [
    "### Submission Instructions\n",
    "\n",
    "- Complete the excercises in the notebook below.\n",
    "- Once you have completed the notebook, you should submit the completed notebook and any additional files you created for the assignment by uploading them to your github profile and sharing the github link as the submission.\n",
    "- your github repostory should contain the required files as well as a README.md file that summarizes what you have learned in this module."
   ]
  },
  {
   "cell_type": "markdown",
   "metadata": {},
   "source": [
    "#### Exercise 1\n",
    "create a class called `Point` that takes two parameters `x` and `y` and stores them as attributes. Then create a method called `distance` that takes another `Point` object and calculates the distance between the two points.\n",
    "\n",
    "Create an appropriate `__str__` method for the class."
   ]
  },
  {
   "cell_type": "code",
   "execution_count": 8,
   "metadata": {},
   "outputs": [
    {
     "name": "stdout",
     "output_type": "stream",
     "text": [
      "The distance between Point(1, 2) and Point(4, 6) is 5.0\n"
     ]
    }
   ],
   "source": [
    "class Point:\n",
    "    def __init__(self, x, y):\n",
    "        self.x = x\n",
    "        self.y = y\n",
    "\n",
    "    def distance(self, other):\n",
    "        return ((self.x - other.x) ** 2 + (self.y - other.y) ** 2) ** 0.5\n",
    "\n",
    "    def __str__(self):\n",
    "        return f\"Point({self.x}, {self.y})\"\n",
    "\n",
    "# Example usage:\n",
    "point1 = Point(1, 2)\n",
    "point2 = Point(4, 6)\n",
    "print(f\"The distance between {point1} and {point2} is {point1.distance(point2)}\")"
   ]
  },
  {
   "cell_type": "markdown",
   "metadata": {},
   "source": [
    "#### Exercise 2\n",
    "- create a class called `Line` that takes two parameters `point1` and `point2` and stores them as attributes. Then create a method called `length` that calculates the length of the line.\n",
    "- the `Line` class should also have a method called `slope` that calculates the slope of the line.\n",
    "- create a method called `point_on_line` that takes a `Point` object and returns `True` if the point is on the line and `False` otherwise.\n",
    "\n",
    "Create an appropriate `__str__` method for the class."
   ]
  },
  {
   "cell_type": "code",
   "execution_count": 12,
   "metadata": {},
   "outputs": [
    {
     "name": "stdout",
     "output_type": "stream",
     "text": [
      "The length of Line(Point(1, 2), Point(4, 6)) is 5.0\n",
      "The slope of Line(Point(1, 2), Point(4, 6)) is 1.3333333333333333\n",
      "Is Point(2, 3) on Line(Point(1, 2), Point(4, 6))? False\n"
     ]
    }
   ],
   "source": [
    "class Point:\n",
    "    def __init__(self, x, y):\n",
    "        self.x = x\n",
    "        self.y = y\n",
    "\n",
    "    def __str__(self):\n",
    "        return f\"Point({self.x}, {self.y})\"\n",
    "\n",
    "class Line:\n",
    "    def __init__(self, point1, point2):\n",
    "        self.point1 = point1\n",
    "        self.point2 = point2\n",
    "\n",
    "    def length(self):\n",
    "        return ((self.point2.x - self.point1.x) ** 2 + (self.point2.y - self.point1.y) ** 2) ** 0.5\n",
    "\n",
    "    def slope(self):\n",
    "        if self.point2.x - self.point1.x == 0:\n",
    "            return float('inf')  # Infinite slope (vertical line)\n",
    "        return (self.point2.y - self.point1.y) / (self.point2.x - self.point1.x)\n",
    "\n",
    "    def point_on_line(self, point):\n",
    "        m = self.slope()\n",
    "        b = self.point1.y - m * self.point1.x\n",
    "        return point.y == m * point.x + b\n",
    "\n",
    "    def __str__(self):\n",
    "        return f\"Line({self.point1}, {self.point2})\"\n",
    "\n",
    "\n",
    "point1 = Point(1, 2)\n",
    "point2 = Point(4, 6)\n",
    "line = Line(point1, point2)\n",
    "point3 = Point(2, 3)\n",
    "\n",
    "print(f\"The length of {line} is {line.length()}\")\n",
    "print(f\"The slope of {line} is {line.slope()}\")\n",
    "print(f\"Is {point3} on {line}? {line.point_on_line(point3)}\")"
   ]
  },
  {
   "cell_type": "markdown",
   "metadata": {},
   "source": [
    "#### Exercise 3\n",
    "- create a class called `Shape` that takes a list of `Lines` and stores them as an attribute. Then create a method called `perimeter` that calculates the perimeter of the shape.\n",
    "- the `Shape` class should have a method called `draw` that draws the shape using `matplotlib`. use the function `draw_lines` below to draw the lines.\n",
    "- create a method called `point_on_perimeter` that takes a `Point` object and returns `True` if the point is on the perimeter of the shape and `False` otherwise.\n",
    "\n",
    "Create an appropriate `__str__` method for the class."
   ]
  },
  {
   "cell_type": "code",
   "execution_count": 16,
   "metadata": {},
   "outputs": [],
   "source": [
    "\n",
    "import matplotlib.pyplot as plt\n",
    "import numpy as np\n",
    "\n",
    "class Point:\n",
    "    def __init__(self, x, y):\n",
    "        self.x = x\n",
    "        self.y = y\n",
    "\n",
    "    def __str__(self):\n",
    "        return f\"Point({self.x}, {self.y})\"\n",
    "\n",
    "class Line:\n",
    "    def __init__(self, point1, point2):\n",
    "        self.point1 = point1\n",
    "        self.point2 = point2\n",
    "\n",
    "    def length(self):\n",
    "        return ((self.point2.x - self.point1.x) ** 2 + (self.point2.y - self.point1.y) ** 2) ** 0.5\n",
    "\n",
    "    def __str__(self):\n",
    "        return f\"Line({self.point1}, {self.point2})\"\n",
    "\n",
    "def draw_lines(lines):\n",
    "    for line in lines:\n",
    "        plt.plot([line.point1.x, line.point2.x], [line.point1.y, line.point2.y], marker='o')\n",
    "    plt.axis('scaled')\n",
    "    plt.show()\n",
    "\n",
    "class Shape:\n",
    "    def __init__(self, lines):\n",
    "        self.lines = lines\n",
    "\n",
    "    def perimeter(self):\n",
    "        return sum(line.length() for line in self.lines)\n",
    "\n",
    "    def draw(self):\n",
    "        draw_lines(self.lines)\n",
    "\n",
    "    def point_on_perimeter(self, point):\n",
    "        return any(line.point1 == point or line.point2 == point for line in self.lines)\n",
    "\n",
    "    def __str__(self):\n",
    "        return f\"Shape with {len(self.lines)} lines\"\n",
    "\n"
   ]
  },
  {
   "cell_type": "markdown",
   "metadata": {},
   "source": [
    "create the following classes:\n",
    "- `Rectangle` that inherits from `Shape` and takes three parameters `width` and `height` and a Point object `center`. The lines of the rectangle should be calculated using the `width`, `height` and `center` parameters. Then create a method called `area` that calculates the area of the rectangle.\n",
    "- `Square` that inherits from `Rectangle` and takes two parameter `side` and `center` and stores it as an attribute.\n",
    "- `Circle` that inherits from `Shape` and takes 3 parameters `radius` and `center` and an optional `num_sides` with a default value of 20. The lines of the circle should be calculated using the `radius`, `center` and `num_sides` parameters. Then create a method called `area` that calculates the area of the circle.\n",
    "- for the `Circle` class, override the `perimeter` and `point_on_perimeter` methods to work with circles (it should find if point on perimeter in the logical sense rather than the visual representatiobn that uses lines).\n",
    "\n",
    "Create an appropriate `__str__` method for each one of the classes."
   ]
  },
  {
   "cell_type": "code",
   "execution_count": 15,
   "metadata": {},
   "outputs": [
    {
     "name": "stdout",
     "output_type": "stream",
     "text": [
      "Rectangle(width=4, height=2, center=Point(0, 0))\n",
      "Area of rectangle: 8\n",
      "Perimeter of rectangle: 12.0\n",
      "Square(side=3, center=Point(0, 0))\n",
      "Area of square: 9\n",
      "Perimeter of square: 12.0\n",
      "Circle(radius=5, center=Point(0, 0), num_sides=20)\n",
      "Area of circle: 78.53981633974483\n",
      "Perimeter of circle: 31.41592653589793\n"
     ]
    },
    {
     "data": {
      "image/png": "[encoded data removed]",
      "text/plain": [
       "<Figure size 640x480 with 1 Axes>"
      ]
     },
     "metadata": {},
     "output_type": "display_data"
    },
    {
     "data": {
      "image/png": "[encoded data removed]",
      "text/plain": [
       "<Figure size 640x480 with 1 Axes>"
      ]
     },
     "metadata": {},
     "output_type": "display_data"
    },
    {
     "data": {
      "image/png": "[encoded data removed]",
      "text/plain": [
       "<Figure size 640x480 with 1 Axes>"
      ]
     },
     "metadata": {},
     "output_type": "display_data"
    }
   ],
   "source": [
    "class Rectangle(Shape):\n",
    "    def __init__(self, width, height, center):\n",
    "        self.width = width\n",
    "        self.height = height\n",
    "        self.center = center\n",
    "        half_width = width / 2\n",
    "        half_height = height / 2\n",
    "        bottom_left = Point(center.x - half_width, center.y - half_height)\n",
    "        bottom_right = Point(center.x + half_width, center.y - half_height)\n",
    "        top_left = Point(center.x - half_width, center.y + half_height)\n",
    "        top_right = Point(center.x + half_width, center.y + half_height)\n",
    "        lines = [\n",
    "            Line(bottom_left, bottom_right),\n",
    "            Line(bottom_right, top_right),\n",
    "            Line(top_right, top_left),\n",
    "            Line(top_left, bottom_left)\n",
    "        ]\n",
    "        super().__init__(lines)\n",
    "\n",
    "    def area(self):\n",
    "        return self.width * self.height\n",
    "\n",
    "    def __str__(self):\n",
    "        return f\"Rectangle(width={self.width}, height={self.height}, center={self.center})\"\n",
    "\n",
    "class Square(Rectangle):\n",
    "    def __init__(self, side, center):\n",
    "        super().__init__(side, side, center)\n",
    "\n",
    "    def __str__(self):\n",
    "        return f\"Square(side={self.width}, center={self.center})\"\n",
    "\n",
    "class Circle(Shape):\n",
    "    def __init__(self, radius, center, num_sides=20):\n",
    "        self.radius = radius\n",
    "        self.center = center\n",
    "        self.num_sides = num_sides\n",
    "        angle = 2 * np.pi / num_sides\n",
    "        points = [\n",
    "            Point(center.x + radius * np.cos(i * angle), center.y + radius * np.sin(i * angle))\n",
    "            for i in range(num_sides)\n",
    "        ]\n",
    "        lines = [Line(points[i], points[(i + 1) % num_sides]) for i in range(num_sides)]\n",
    "        super().__init__(lines)\n",
    "\n",
    "    def area(self):\n",
    "        return np.pi * self.radius ** 2\n",
    "\n",
    "    def perimeter(self):\n",
    "        return 2 * np.pi * self.radius\n",
    "\n",
    "    def point_on_perimeter(self, point):\n",
    "        return abs((point.x - self.center.x) ** 2 + (point.y - self.center.y) ** 2 - self.radius ** 2) < 1e-6\n",
    "\n",
    "    def __str__(self):\n",
    "        return f\"Circle(radius={self.radius}, center={self.center}, num_sides={self.num_sides})\"\n",
    "\n",
    "# Example usage:\n",
    "center_point = Point(0, 0)\n",
    "rectangle = Rectangle(4, 2, center_point)\n",
    "square = Square(3, center_point)\n",
    "circle = Circle(5, center_point)\n",
    "\n",
    "print(rectangle)\n",
    "print(f\"Area of rectangle: {rectangle.area()}\")\n",
    "print(f\"Perimeter of rectangle: {rectangle.perimeter()}\")\n",
    "\n",
    "print(square)\n",
    "print(f\"Area of square: {square.area()}\")\n",
    "print(f\"Perimeter of square: {square.perimeter()}\")\n",
    "\n",
    "print(circle)\n",
    "print(f\"Area of circle: {circle.area()}\")\n",
    "print(f\"Perimeter of circle: {circle.perimeter()}\")\n",
    "\n",
    "# Draw the shapes\n",
    "rectangle.draw()\n",
    "square.draw()\n",
    "circle.draw()\n",
    "\n"
   ]
  },
  {
   "cell_type": "markdown",
   "metadata": {},
   "source": [
    "#### Exercise 4\n",
    "Create a program that simulates a simple employee management system. The program should allow the user to perform the following tasks:\n",
    "- add a new employee either a Manager or a Developer to the company.\n",
    "- display the list of employees in the company, along with their details.\n",
    "- calculate the total salary of all employees in the company.\n",
    "\n",
    "Create the following classes:\n",
    "- `Employee` class that takes three parameters `name`, `age` and `salary` and stores them as attributes. \n",
    "- `Manager` class that inherits from `Employee` and takes an additional parameter `department` and stores it as an attribute.\n",
    "- `Developer` class that inherits from `Employee` and takes an additional parameter `programming_language` and stores it as an attribute.\n",
    "\n",
    "Create a class called `Company` with the following methods:\n",
    "- `add_employee` that takes an `Employee` object and adds it to the list of employees.\n",
    "- `display_employees` that displays the list of employees in the company.\n",
    "- `calculate_total_salary` that calculates the total salary of all employees in the company.\n",
    "\n",
    "Use user input to allow the user to perform the above tasks.\n",
    "\n",
    "##### Example Output\n",
    "```console\n",
    "Welcome to Estarta Solutions Employee Management System\n",
    "\n",
    "What task would you like to perform?\n",
    "1. Add a new employee\n",
    "2. Display employees\n",
    "3. Calculate total salary\n",
    "4. Exit\n",
    "\n",
    "Enter your choice: 1\n",
    "\n",
    "Enter employee type (Manager/Developer): Manager\n",
    "Enter employee name: Ali\n",
    "Enter employee age: 35\n",
    "Enter employee salary: 5000\n",
    "Enter employee department: IT\n",
    "\n",
    "Employee added successfully!\n",
    "\n",
    "What task would you like to perform?\n",
    "1. Add a new employee\n",
    "2. Display employees\n",
    "3. Calculate total salary\n",
    "4. Exit\n",
    "\n",
    "Enter your choice: 1\n",
    "\n",
    "Enter employee type (Manager/Developer): Developer\n",
    "Enter employee name: Sara\n",
    "Enter employee age: 28\n",
    "Enter employee salary: 4000\n",
    "Enter employee programming language: Python\n",
    "\n",
    "Employee added successfully!\n",
    "\n",
    "What task would you like to perform?\n",
    "1. Add a new employee\n",
    "2. Display employees\n",
    "3. Calculate total salary\n",
    "4. Exit\n",
    "\n",
    "Enter your choice: 2\n",
    "\n",
    "Ali, a 35 year old Manager in the IT department with a salary of 5000\n",
    "Sara, a 28 year old Developer in Python with a salary of 4000\n",
    "\n",
    "What task would you like to perform?\n",
    "1. Add a new employee\n",
    "2. Display employees\n",
    "3. Calculate total salary\n",
    "4. Exit\n",
    "\n",
    "Enter your choice: 3\n",
    "\n",
    "Total salary of all employees is 9000\n",
    "\n",
    "What task would you like to perform?\n",
    "1. Add a new employee\n",
    "2. Display employees\n",
    "3. Calculate total salary\n",
    "4. Exit\n",
    "\n",
    "Enter your choice: 4\n",
    "\n",
    "Thank you for using Estarta Solutions Employee Management System.\n",
    "Goodbye!\n",
    "```"
   ]
  }
 ],
 "metadata": {
  "kernelspec": {
   "display_name": "Python 3",
   "language": "python",
   "name": "python3"
  },
  "language_info": {
   "codemirror_mode": {
    "name": "ipython",
    "version": 3
   },
   "file_extension": ".py",
   "mimetype": "text/x-python",
   "name": "python",
   "nbconvert_exporter": "python",
   "pygments_lexer": "ipython3",
   "version": "3.12.3"
  }
 },
 "nbformat": 4,
 "nbformat_minor": 2
}

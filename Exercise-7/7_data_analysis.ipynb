{
 "cells": [
  {
   "cell_type": "markdown",
   "metadata": {},
   "source": [
    "<div style=\"display: flex; align-items: center;\">\n",
    "    <img src=\"../img/es_logo.png\" alt=\"title\" style=\"margin-right: 20px;\">\n",
    "    <h1>Data Analysis Using Python</h1>\n",
    "</div>"
   ]
  },
  {
   "cell_type": "markdown",
   "metadata": {},
   "source": [
    "### Submission Instructions\n",
    "\n",
    "- Complete the excercises in the notebook below.\n",
    "- Once you have completed the notebook, you should submit the completed notebook and any additional files you created for the assignment by uploading them to your github profile and sharing the github link as the submission.\n",
    "- your github repostory should contain the required files as well as a README.md file that summarizes what you have learned in this module."
   ]
  },
  {
   "cell_type": "markdown",
   "metadata": {},
   "source": [
    "### Recommended Readings:\n",
    "- Pandas : [User Guide](https://pandas.pydata.org/docs/user_guide/index.html#user-guide)\n",
    "- Concat, Merge and Join: [Documentation](https://pandas.pydata.org/docs/user_guide/merging.html)"
   ]
  },
  {
   "cell_type": "markdown",
   "metadata": {},
   "source": [
    "Download the following dataset from kaggel: [Employee Salaries Analysis](https://www.kaggle.com/datasets/sahirmaharajj/employee-salaries-analysis)\n",
    "\n",
    "Using pandas find the following:\n",
    "1. The average salary of all employees\n",
    "2. The Department with the highest average salary\n",
    "3. The average salary of employees based on gender"
   ]
  },
  {
   "cell_type": "code",
   "execution_count": 3,
   "metadata": {},
   "outputs": [
    {
     "name": "stdout",
     "output_type": "stream",
     "text": [
      "Average salary of all employees: 90312.16574420367\n",
      "Department with the highest average salary: Office of Intergovernmental Relations Department\n",
      "Highest average salary in that department: 165196.75\n",
      "Average salary of employees based on gender:\n",
      "Gender\n",
      "F    87497.502790\n",
      "M    92382.929752\n",
      "Name: Base_Salary, dtype: float64\n"
     ]
    }
   ],
   "source": [
    "import pandas as pd\n",
    "\n",
    "# Load the CSV file\n",
    "file_path = 'Employee_Salaries.csv'\n",
    "data = pd.read_csv(file_path)\n",
    "\n",
    "# Calculate the average salary of all employees\n",
    "average_salary = data['Base_Salary'].mean()\n",
    "\n",
    "# Find the department with the highest average salary\n",
    "department_avg_salary = data.groupby('Department_Name')['Base_Salary'].mean()\n",
    "highest_avg_salary_department = department_avg_salary.idxmax()\n",
    "highest_avg_salary = department_avg_salary.max()\n",
    "\n",
    "# Calculate the average salary of employees based on gender\n",
    "gender_avg_salary = data.groupby('Gender')['Base_Salary'].mean()\n",
    "\n",
    "# Output the results\n",
    "print(\"Average salary of all employees:\", average_salary)\n",
    "print(\"Department with the highest average salary:\", highest_avg_salary_department)\n",
    "print(\"Highest average salary in that department:\", highest_avg_salary)\n",
    "print(\"Average salary of employees based on gender:\")\n",
    "print(gender_avg_salary)"
   ]
  }
 ],
 "metadata": {
  "kernelspec": {
   "display_name": "Python 3",
   "language": "python",
   "name": "python3"
  },
  "language_info": {
   "codemirror_mode": {
    "name": "ipython",
    "version": 3
   },
   "file_extension": ".py",
   "mimetype": "text/x-python",
   "name": "python",
   "nbconvert_exporter": "python",
   "pygments_lexer": "ipython3",
   "version": "3.12.3"
  }
 },
 "nbformat": 4,
 "nbformat_minor": 2
}
